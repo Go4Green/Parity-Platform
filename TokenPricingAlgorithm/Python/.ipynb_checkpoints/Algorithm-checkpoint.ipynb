{
 "cells": [
  {
   "cell_type": "code",
   "execution_count": 4,
   "metadata": {},
   "outputs": [
    {
     "name": "stderr",
     "output_type": "stream",
     "text": [
      "C:\\Users\\kosta\\Anaconda3\\lib\\site-packages\\sklearn\\utils\\deprecation.py:66: DeprecationWarning: Class Imputer is deprecated; Imputer was deprecated in version 0.20 and will be removed in 0.22. Import impute.SimpleImputer from sklearn instead.\n",
      "  warnings.warn(msg, category=DeprecationWarning)\n"
     ]
    }
   ],
   "source": [
    "# Importing the libraries\n",
    "import numpy as np\n",
    "import matplotlib.pyplot as plt\n",
    "import pandas as pd\n",
    "\n",
    "#----------- Data Preprocessing ----------#\n",
    "\n",
    "# Importing the dataset\n",
    "dataset = pd.read_csv('C:/Users/kosta/Documents/GitHub/Parity-Platform/TokenPricingAlgorithm/Data/MarketPriceData.csv')\n",
    "                \n",
    "X = dataset.iloc[:, :-1].values # all the lines, all the columns except the last one\n",
    "y = dataset.iloc[:, 9].values # All lines but theor last column because its the fixed price one\n",
    "\n",
    "\n",
    "# Our first two columns are strings so we transform them the categorical values\n",
    "from sklearn.preprocessing import LabelEncoder\n",
    "labelencoder_X = LabelEncoder()\n",
    "X[:,0] = labelencoder_X.fit_transform(X[:,0])\n",
    "X[:,1] = labelencoder_X.fit_transform(X[:,1])\n",
    "labelencoder_y = LabelEncoder()\n",
    "y = labelencoder_X.fit_transform(y)\n",
    "\n",
    "# Taking care of missing data at the columns with NaN values in X\n",
    "from sklearn.preprocessing import Imputer\n",
    "imputer = Imputer(missing_values = 'NaN', strategy = 'mean', axis = 0)\n",
    "imputer = imputer.fit(X[:,:])\n",
    "X[:,:] = imputer.transform(X[:,:])\n",
    "\n",
    "# Splitting the dataset into the Training set and Test set\n",
    "from sklearn.model_selection import train_test_split \n",
    "X_train, X_test, y_train, y_test = train_test_split(X, y, test_size = 0.2, random_state = 0)\n",
    "\n",
    "# feature Scaling - Normalization so no value dominates the other\n",
    "from sklearn.preprocessing import StandardScaler\n",
    "sc_X = StandardScaler()\n",
    "X_train = sc_X.fit_transform(X_train)\n",
    "X_test = sc_X.transform(X_test)\n"
   ]
  },
  {
   "cell_type": "code",
   "execution_count": 19,
   "metadata": {},
   "outputs": [
    {
     "name": "stdout",
     "output_type": "stream",
     "text": [
      "predicted response:\n",
      "[ 7.10347805  9.69719368 18.73232594 16.68213923 21.64743163 15.65931072\n",
      " 18.0730767  16.14994677 20.29599491 23.99367703  9.62647906 12.28520463\n",
      " 14.38456946 30.97049655  7.37650731 13.22241462 11.87478371 18.94073125]\n",
      "real response:\n",
      "[ 8 13 21 10 33 21  7  5 16 27  2 24 13 34  3 29 21 12]\n"
     ]
    }
   ],
   "source": [
    "# ----------- Multiple Regression -----------#\n",
    "# Fitting Multiple Linear Regression to the Training set\n",
    "from sklearn.linear_model import LinearRegression\n",
    "regressor = LinearRegression()\n",
    "regressor.fit(X_train, y_train) # fit the regressor object to the train set\n",
    "\n",
    "# Predicting the Test set results\n",
    "y_pred = regressor.predict(X_test)\n"
   ]
  },
  {
   "cell_type": "code",
   "execution_count": null,
   "metadata": {},
   "outputs": [],
   "source": []
  }
 ],
 "metadata": {
  "kernelspec": {
   "display_name": "Python 3",
   "language": "python",
   "name": "python3"
  },
  "language_info": {
   "codemirror_mode": {
    "name": "ipython",
    "version": 3
   },
   "file_extension": ".py",
   "mimetype": "text/x-python",
   "name": "python",
   "nbconvert_exporter": "python",
   "pygments_lexer": "ipython3",
   "version": "3.7.4"
  }
 },
 "nbformat": 4,
 "nbformat_minor": 2
}
