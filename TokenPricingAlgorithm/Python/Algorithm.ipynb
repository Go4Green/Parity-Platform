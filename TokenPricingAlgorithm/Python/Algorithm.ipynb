{
 "cells": [
  {
   "cell_type": "code",
   "execution_count": 10,
   "metadata": {
    "collapsed": true
   },
   "outputs": [
    {
     "name": "stdout",
     "output_type": "stream",
     "text": [
      "[[-1.81472474  1.03359948 -1.12006395  0.         -0.20203051 -0.94699821\n",
      "   0.         -1.76796599  1.30558242         nan]\n",
      " [-1.34372748  1.31815318 -0.5195566   0.         -0.20203051 -0.93557324\n",
      "   0.         -1.37519417 -0.17407766         nan]\n",
      " [ 0.54026156 -0.67372274  0.28111986  0.         -0.20203051 -0.20700259\n",
      "   0.         -0.69361877  7.22422272         nan]\n",
      " [ 0.0692643  -0.67372274 -0.91989483  0.         -0.20203051 -0.90501011\n",
      "   0.          1.24430768 -0.17407766         nan]\n",
      " [ 1.01125882  1.03359948  1.58221911  0.         -0.20203051 -0.57596299\n",
      "   0.         -0.83746564  1.30558242 -0.12364881]\n",
      " [-0.40173296  0.46449207  0.28111986  0.         -0.20203051  0.37312882\n",
      "   0.          1.98425762 -0.17407766         nan]\n",
      " [ 0.0692643   0.17993837 -1.22014851  0.         -0.20203051  0.13294854\n",
      "   0.          0.72449249 -0.17407766         nan]\n",
      " [ 0.0692643  -1.52738384 -1.42031762  0.         -0.20203051 -1.46302137\n",
      "   0.          0.99590673 -0.17407766         nan]\n",
      " [ 0.54026156  0.17993837 -0.21930293  0.         -0.20203051 -0.10935371\n",
      "   0.         -0.02143289 -0.17407766         nan]\n",
      " [ 1.48225608  1.31815318  0.98171177  0.         -0.20203051 -1.35402386\n",
      "   0.          0.06936724 -0.17407766 -1.13605032]\n",
      " [-1.34372748 -1.52738384 -2.02082497  0.         -0.20203051 -1.50449076\n",
      "   0.         -1.77797389 -0.17407766         nan]\n",
      " [-0.87273022  1.03359948  0.68145809  0.         -0.20203051 -0.36113186\n",
      "   0.          1.3304277  -0.17407766         nan]\n",
      " [-0.40173296  0.17993837 -0.5195566   0.         -0.20203051 -0.74339219\n",
      "   0.          1.06037388 -0.17407766         nan]\n",
      " [ 0.54026156  1.03359948  1.68230367  0.          3.23248814 -0.27931805\n",
      "   0.         -0.92229032 -0.17407766 -2.62146722]\n",
      " [-1.34372748  0.74904577 -1.82065585  0.         -0.20203051 -1.16276795\n",
      "   0.         -1.40188515  8.7038828          nan]\n",
      " [-0.87273022 -0.38916903  1.18188088  0.         -0.20203051 -0.21695453\n",
      "   0.         -0.40136857 -0.17407766         nan]\n",
      " [-0.87273022  1.60270688  0.28111986  0.         -0.20203051 -0.68858469\n",
      "   0.          0.61888718 -0.17407766         nan]\n",
      " [ 0.54026156  0.74904577 -0.71972572  0.         -0.20203051 -0.94382984\n",
      "   0.          0.2331811  -0.17407766         nan]]\n"
     ]
    },
    {
     "name": "stderr",
     "output_type": "stream",
     "text": [
      "C:\\Users\\kosta\\Anaconda3\\lib\\site-packages\\sklearn\\utils\\deprecation.py:66: DeprecationWarning: Class Imputer is deprecated; Imputer was deprecated in version 0.20 and will be removed in 0.22. Import impute.SimpleImputer from sklearn instead.\n",
      "  warnings.warn(msg, category=DeprecationWarning)\n"
     ]
    }
   ],
   "source": [
    "# Importing the libraries\n",
    "import numpy as np\n",
    "import matplotlib.pyplot as plt\n",
    "import pandas as pd\n",
    "\n",
    "#----------- Data Preprocessing ----------#\n",
    "\n",
    "# Importing the dataset\n",
    "dataset = pd.read_csv('C:/Users/kosta/Documents/GitHub/Parity-Platform/TokenPricingAlgorithm/Data/MarketPriceData.csv')\n",
    "                \n",
    "X = dataset.iloc[:, :-1].values # all the lines, all the columns except the last one\n",
    "y = dataset.iloc[:, 10].values # All lines but theor last column because its the fixed price one\n",
    "\n",
    "# Taking care of missing data at the columns with NaN values in X\n",
    "from sklearn.preprocessing import Imputer\n",
    "imputer = Imputer(missing_values = 'NaN', strategy = 'mean', axis = 0)\n",
    "imputer = imputer.fit(X[:,2:9])\n",
    "X[:,2:9] = imputer.transform(X[:,2:9])\n",
    "\n",
    "# Our first two columns are strings so we transform them the categorical values\n",
    "from sklearn.preprocessing import LabelEncoder\n",
    "labelencoder_X = LabelEncoder()\n",
    "X[:,0] = labelencoder_X.fit_transform(X[:,0])\n",
    "X[:,1] = labelencoder_X.fit_transform(X[:,1])\n",
    "labelencoder_y = LabelEncoder()\n",
    "y = labelencoder_X.fit_transform(y)\n",
    "\n",
    "# Splitting the dataset into the Training set and Test set\n",
    "from sklearn.model_selection import train_test_split \n",
    "X_train, X_test, y_train, y_test = train_test_split(X, y, test_size = 0.2, random_state = 0)\n",
    "\n",
    "# feature Scaling - Normalization so no value dominates the other\n",
    "from sklearn.preprocessing import StandardScaler\n",
    "sc_X = StandardScaler()\n",
    "X_train = sc_X.fit_transform(X_train)\n",
    "X_test = sc_X.transform(X_test)\n"
   ]
  },
  {
   "cell_type": "code",
   "execution_count": null,
   "metadata": {},
   "outputs": [],
   "source": []
  }
 ],
 "metadata": {
  "kernelspec": {
   "display_name": "Python 3",
   "language": "python",
   "name": "python3"
  },
  "language_info": {
   "codemirror_mode": {
    "name": "ipython",
    "version": 3
   },
   "file_extension": ".py",
   "mimetype": "text/x-python",
   "name": "python",
   "nbconvert_exporter": "python",
   "pygments_lexer": "ipython3",
   "version": "3.7.4"
  }
 },
 "nbformat": 4,
 "nbformat_minor": 2
}
